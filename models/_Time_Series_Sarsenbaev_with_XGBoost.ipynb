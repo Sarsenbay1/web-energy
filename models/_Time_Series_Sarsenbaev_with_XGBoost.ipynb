{
  "cells": [
    {
      "cell_type": "code",
      "execution_count": 6,
      "metadata": {
        "id": "LcjVWiAWbauX"
      },
      "outputs": [
        {
          "name": "stderr",
          "output_type": "stream",
          "text": [
            "���⥬� �� 㤠���� ���� 㪠����� ����.\n"
          ]
        },
        {
          "ename": "OSError",
          "evalue": "[WinError 1314] Клиент не обладает требуемыми правами: '/kaggle/input' -> '..\\\\input'",
          "output_type": "error",
          "traceback": [
            "\u001b[1;31m---------------------------------------------------------------------------\u001b[0m",
            "\u001b[1;31mOSError\u001b[0m                                   Traceback (most recent call last)",
            "Cell \u001b[1;32mIn[6], line 24\u001b[0m\n\u001b[0;32m     21\u001b[0m os\u001b[38;5;241m.\u001b[39mmakedirs(KAGGLE_WORKING_PATH, \u001b[38;5;241m0o777\u001b[39m, exist_ok\u001b[38;5;241m=\u001b[39m\u001b[38;5;28;01mTrue\u001b[39;00m)\n\u001b[0;32m     23\u001b[0m \u001b[38;5;28;01mtry\u001b[39;00m:\n\u001b[1;32m---> 24\u001b[0m   \u001b[43mos\u001b[49m\u001b[38;5;241;43m.\u001b[39;49m\u001b[43msymlink\u001b[49m\u001b[43m(\u001b[49m\u001b[43mKAGGLE_INPUT_PATH\u001b[49m\u001b[43m,\u001b[49m\u001b[43m \u001b[49m\u001b[43mos\u001b[49m\u001b[38;5;241;43m.\u001b[39;49m\u001b[43mpath\u001b[49m\u001b[38;5;241;43m.\u001b[39;49m\u001b[43mjoin\u001b[49m\u001b[43m(\u001b[49m\u001b[38;5;124;43m\"\u001b[39;49m\u001b[38;5;124;43m..\u001b[39;49m\u001b[38;5;124;43m\"\u001b[39;49m\u001b[43m,\u001b[49m\u001b[43m \u001b[49m\u001b[38;5;124;43m'\u001b[39;49m\u001b[38;5;124;43minput\u001b[39;49m\u001b[38;5;124;43m'\u001b[39;49m\u001b[43m)\u001b[49m\u001b[43m,\u001b[49m\u001b[43m \u001b[49m\u001b[43mtarget_is_directory\u001b[49m\u001b[38;5;241;43m=\u001b[39;49m\u001b[38;5;28;43;01mTrue\u001b[39;49;00m\u001b[43m)\u001b[49m\n\u001b[0;32m     25\u001b[0m \u001b[38;5;28;01mexcept\u001b[39;00m \u001b[38;5;167;01mFileExistsError\u001b[39;00m:\n\u001b[0;32m     26\u001b[0m   \u001b[38;5;28;01mpass\u001b[39;00m\n",
            "\u001b[1;31mOSError\u001b[0m: [WinError 1314] Клиент не обладает требуемыми правами: '/kaggle/input' -> '..\\\\input'"
          ]
        }
      ],
      "source": [
        "import os\n",
        "import sys\n",
        "from tempfile import NamedTemporaryFile\n",
        "from urllib.request import urlopen\n",
        "from urllib.parse import unquote, urlparse\n",
        "from urllib.error import HTTPError\n",
        "from zipfile import ZipFile\n",
        "import tarfile\n",
        "import shutil\n",
        "\n",
        "CHUNK_SIZE = 40960\n",
        "DATA_SOURCE_MAPPING = ':https%3A%2F%2Fstorage.googleapis.com%2Fkaggle-data-sets%2F48149%2F87794%2Fbundle%2Farchive.zip%3FX-Goog-Algorithm%3DGOOG4-RSA-SHA256%26X-Goog-Credential%3Dgcp-kaggle-com%2540kaggle-161607.iam.gserviceaccount.com%252F20240404%252Fauto%252Fstorage%252Fgoog4_request%26X-Goog-Date%3D20240404T184453Z%26X-Goog-Expires%3D259200%26X-Goog-SignedHeaders%3Dhost%26X-Goog-Signature%3D2b1dccffa68f09962aa975e816e8709ee621d80b979f942034813ad4a921481baed7e6e3caa5c570f77dee3cad1a138dbefa1bb3f1231dc0bc5d7244ed7e3ab44b6937d959cc2b08951aa02af38bf8ca2fa1b6ec459c5d52d035f8cf50fc34a58b095e3e796597d10483ca3caba33dc775d65d4d67711ac085145c5deefe25738bf5e9ffc137bfc664b37c0e2aca4bdf60dfa1c14f0f5744c4b926948af332811708dfb5b38b12a91adc72d2ee022e498d822b148838d6b8cc7deff7bf4a115e99b769833a3c13e26f6f026da6fc5b64843b7ba73857aa1cc6effdcecfd73dc7f343ebbe864d57d9adeaf0ff0845af9b4ac891b7b6d7195e892e20fdff6722db'\n",
        "\n",
        "KAGGLE_INPUT_PATH='/kaggle/input'\n",
        "KAGGLE_WORKING_PATH='/kaggle/working'\n",
        "KAGGLE_SYMLINK='kaggle'\n",
        "\n",
        "!umount /kaggle/input/ 2> /dev/null\n",
        "shutil.rmtree('/kaggle/input', ignore_errors=True)\n",
        "os.makedirs(KAGGLE_INPUT_PATH, 0o777, exist_ok=True)\n",
        "os.makedirs(KAGGLE_WORKING_PATH, 0o777, exist_ok=True)\n",
        "\n",
        "try:\n",
        "  os.symlink(KAGGLE_INPUT_PATH, os.path.join(\"..\", 'input'), target_is_directory=True)\n",
        "except FileExistsError:\n",
        "  pass\n",
        "try:\n",
        "  os.symlink(KAGGLE_WORKING_PATH, os.path.join(\"..\", 'working'), target_is_directory=True)\n",
        "except FileExistsError:\n",
        "  pass\n",
        "\n",
        "for data_source_mapping in DATA_SOURCE_MAPPING.split(','):\n",
        "    directory, download_url_encoded = data_source_mapping.split(':')\n",
        "    download_url = unquote(download_url_encoded)\n",
        "    filename = urlparse(download_url).path\n",
        "    destination_path = os.path.join(KAGGLE_INPUT_PATH, directory)\n",
        "    try:\n",
        "        with urlopen(download_url) as fileres, NamedTemporaryFile() as tfile:\n",
        "            total_length = fileres.headers['content-length']\n",
        "            print(f'Downloading {directory}, {total_length} bytes compressed')\n",
        "            dl = 0\n",
        "            data = fileres.read(CHUNK_SIZE)\n",
        "            while len(data) > 0:\n",
        "                dl += len(data)\n",
        "                tfile.write(data)\n",
        "                done = int(50 * dl / int(total_length))\n",
        "                sys.stdout.write(f\"\\r[{'=' * done}{' ' * (50-done)}] {dl} bytes downloaded\")\n",
        "                sys.stdout.flush()\n",
        "                data = fileres.read(CHUNK_SIZE)\n",
        "            if filename.endswith('.zip'):\n",
        "              with ZipFile(tfile) as zfile:\n",
        "                zfile.extractall(destination_path)\n",
        "            else:\n",
        "              with tarfile.open(tfile.name) as tarfile:\n",
        "                tarfile.extractall(destination_path)\n",
        "            print(f'\\nDownloaded and uncompressed: {directory}')\n",
        "    except HTTPError as e:\n",
        "        print(f'Failed to load (likely expired) {download_url} to path {destination_path}')\n",
        "        continue\n",
        "    except OSError as e:\n",
        "        print(f'Failed to load {download_url} to path {destination_path}')\n",
        "        continue\n",
        "\n",
        "print('Data source import complete.')"
      ]
    },
    {
      "cell_type": "code",
      "execution_count": 11,
      "metadata": {
        "_cell_guid": "b1076dfc-b9ad-4769-8c92-a6c4dae69d19",
        "_uuid": "8f2839f25d086af736a60e9eeb907d3b93b6e0e5",
        "id": "f0MG4cEQbaub",
        "trusted": true
      },
      "outputs": [
        {
          "ename": "ModuleNotFoundError",
          "evalue": "No module named 'numpy'",
          "output_type": "error",
          "traceback": [
            "\u001b[1;31m---------------------------------------------------------------------------\u001b[0m",
            "\u001b[1;31mModuleNotFoundError\u001b[0m                       Traceback (most recent call last)",
            "Cell \u001b[1;32mIn[11], line 1\u001b[0m\n\u001b[1;32m----> 1\u001b[0m \u001b[38;5;28;01mimport\u001b[39;00m \u001b[38;5;21;01mnumpy\u001b[39;00m \u001b[38;5;28;01mas\u001b[39;00m \u001b[38;5;21;01mnp\u001b[39;00m \u001b[38;5;66;03m# linear algebra\u001b[39;00m\n\u001b[0;32m      2\u001b[0m \u001b[38;5;28;01mimport\u001b[39;00m \u001b[38;5;21;01mpandas\u001b[39;00m \u001b[38;5;28;01mas\u001b[39;00m \u001b[38;5;21;01mpd\u001b[39;00m \u001b[38;5;66;03m# data processing, CSV file I/O (e.g. pd.read_csv)\u001b[39;00m\n\u001b[0;32m      3\u001b[0m \u001b[38;5;28;01mimport\u001b[39;00m \u001b[38;5;21;01mseaborn\u001b[39;00m \u001b[38;5;28;01mas\u001b[39;00m \u001b[38;5;21;01msns\u001b[39;00m\n",
            "\u001b[1;31mModuleNotFoundError\u001b[0m: No module named 'numpy'"
          ]
        }
      ],
      "source": [
        "import numpy as np # linear algebra\n",
        "import pandas as pd # data processing, CSV file I/O (e.g. pd.read_csv)\n",
        "import seaborn as sns\n",
        "import matplotlib.pyplot as plt\n",
        "import xgboost as xgb\n",
        "from xgboost import plot_importance, plot_tree\n",
        "from sklearn.metrics import mean_squared_error, mean_absolute_error\n",
        "plt.style.use('fivethirtyeight')"
      ]
    },
    {
      "cell_type": "markdown",
      "metadata": {
        "_uuid": "102c0bcb9cfc3be70922d8a308d4e29f02002c3e",
        "id": "dBTvyd3rbauc"
      },
      "source": [
        "# ДАННЫЕ\n",
        "Данные, которые мы будем использовать, - это данные о почасовом потреблении энергии. Данные о потреблении энергии имеют некоторые уникальные характеристики. Будет интересно посмотреть, как prophet их использует.\n",
        "\n",
        "Извлекаем \"PJM East\", в котором содержатся данные за 2002-2018 годы."
      ]
    },
    {
      "cell_type": "code",
      "execution_count": null,
      "metadata": {
        "_cell_guid": "79c7e3d0-c299-4dcb-8224-4455121ee9b0",
        "_uuid": "d629ff2d2480ee46fbb7e2d37f6b5fab8052498a",
        "id": "snAFqUgFbauc",
        "trusted": true
      },
      "outputs": [],
      "source": [
        "pjme = pd.read_csv('/input/PJME_hourly.csv', index_col=[0], parse_dates=[0])"
      ]
    },
    {
      "cell_type": "code",
      "execution_count": null,
      "metadata": {
        "_uuid": "c9ed25d7b8010577d04385c9c4077b6fffd7d409",
        "id": "qyJ-_VG5bauc",
        "trusted": true
      },
      "outputs": [],
      "source": [
        "color_pal = [\"#F8766D\", \"#D39200\", \"#93AA00\", \"#00BA38\", \"#00C19F\", \"#00B9E3\", \"#619CFF\", \"#DB72FB\"]\n",
        "_ = pjme.plot(style='.', figsize=(15,5), color=color_pal[0], title='Данные о потреблении энергии')"
      ]
    },
    {
      "cell_type": "markdown",
      "metadata": {
        "_uuid": "1c1c9cf0b6c70a8edd221810bb289b8837889288",
        "id": "JORjHDX6baud",
        "trusted": true
      },
      "source": [
        "# Разделение на обучение и тестирование\n",
        "Данные после 2015 года будут удалены для использования в качестве набора для проверки."
      ]
    },
    {
      "cell_type": "code",
      "execution_count": null,
      "metadata": {
        "_uuid": "9e5c8c6fd78d2ac35c628315a7f12ad19c84dddb",
        "id": "mC6mH6nSbaud",
        "trusted": true
      },
      "outputs": [],
      "source": [
        "split_date = '01-Jan-2015'\n",
        "pjme_train = pjme.loc[pjme.index <= split_date].copy()\n",
        "pjme_test = pjme.loc[pjme.index > split_date].copy()"
      ]
    },
    {
      "cell_type": "code",
      "execution_count": null,
      "metadata": {
        "_uuid": "e1a730acd8b68e569ce5ff1abe18b047ca85ab91",
        "id": "ziwMA0Tlbaud",
        "trusted": true
      },
      "outputs": [],
      "source": [
        "_ = pjme_test \\\n",
        "    .rename(columns={'PJME_MW': 'Тестовый SET'}) \\\n",
        "    .join(pjme_train.rename(columns={'PJME_MW': 'Тренировочный SET'}), how='outer') \\\n",
        "    .plot(figsize=(15,5), title='Данные о потреблении электроэнергии', style='.')"
      ]
    },
    {
      "cell_type": "markdown",
      "metadata": {
        "_uuid": "a40373b87cfcbbfac9be205b3dbacf56bb9bc3d0",
        "id": "qMBvKySlbaue"
      },
      "source": [
        "# Создание объектов временных рядов"
      ]
    },
    {
      "cell_type": "code",
      "execution_count": 13,
      "metadata": {
        "_uuid": "53212882b070962fad91503aec7d2e550ac401c7",
        "id": "pe-r-xV6baue",
        "trusted": true
      },
      "outputs": [],
      "source": [
        "def create_features(df, label=None):\n",
        "    \"\"\"\n",
        "    Creates time series features from datetime index\n",
        "    \"\"\"\n",
        "    df['date'] = df.index\n",
        "    df['hour'] = df['date'].dt.hour\n",
        "    df['dayofweek'] = df['date'].dt.dayofweek\n",
        "    df['quarter'] = df['date'].dt.quarter\n",
        "    df['month'] = df['date'].dt.month\n",
        "    df['year'] = df['date'].dt.year\n",
        "    df['dayofyear'] = df['date'].dt.dayofyear\n",
        "    df['dayofmonth'] = df['date'].dt.day\n",
        "    # df['weekofyear'] = df['date'].dt.weekofyear\n",
        "\n",
        "    X = df[['hour','dayofweek','quarter','month','year',\n",
        "           'dayofyear','dayofmonth']]\n",
        "    if label:\n",
        "        y = df[label]\n",
        "        return X, y\n",
        "    return X"
      ]
    },
    {
      "cell_type": "code",
      "execution_count": 16,
      "metadata": {
        "_uuid": "6bb80315201ecc19305b67e4ba8177bcbb9514b4",
        "id": "WH7TY0M2baue",
        "trusted": true
      },
      "outputs": [
        {
          "ename": "NameError",
          "evalue": "name 'pjme_train' is not defined",
          "output_type": "error",
          "traceback": [
            "\u001b[1;31m---------------------------------------------------------------------------\u001b[0m",
            "\u001b[1;31mNameError\u001b[0m                                 Traceback (most recent call last)",
            "Cell \u001b[1;32mIn[16], line 1\u001b[0m\n\u001b[1;32m----> 1\u001b[0m X_train, y_train \u001b[38;5;241m=\u001b[39m create_features(\u001b[43mpjme_train\u001b[49m, label\u001b[38;5;241m=\u001b[39m\u001b[38;5;124m'\u001b[39m\u001b[38;5;124mPJME_MW\u001b[39m\u001b[38;5;124m'\u001b[39m)\n\u001b[0;32m      2\u001b[0m X_test, y_test \u001b[38;5;241m=\u001b[39m create_features(pjme_test, label\u001b[38;5;241m=\u001b[39m\u001b[38;5;124m'\u001b[39m\u001b[38;5;124mPJME_MW\u001b[39m\u001b[38;5;124m'\u001b[39m)\n",
            "\u001b[1;31mNameError\u001b[0m: name 'pjme_train' is not defined"
          ]
        }
      ],
      "source": [
        "X_train, y_train = create_features(pjme_train, label='PJME_MW')\n",
        "X_test, y_test = create_features(pjme_test, label='PJME_MW')"
      ]
    },
    {
      "cell_type": "markdown",
      "metadata": {
        "_uuid": "60ffc6c21d16280ee05faead916fd09c34fa490c",
        "id": "e2_EUDsobaue"
      },
      "source": [
        "# Создание модели XGBoost"
      ]
    },
    {
      "cell_type": "code",
      "execution_count": 17,
      "metadata": {
        "_uuid": "f608b0b457225f175c2eb1c4a74450747b095e93",
        "id": "H6a8zVoebauf",
        "trusted": true
      },
      "outputs": [
        {
          "ename": "NameError",
          "evalue": "name 'xgb' is not defined",
          "output_type": "error",
          "traceback": [
            "\u001b[1;31m---------------------------------------------------------------------------\u001b[0m",
            "\u001b[1;31mNameError\u001b[0m                                 Traceback (most recent call last)",
            "Cell \u001b[1;32mIn[17], line 1\u001b[0m\n\u001b[1;32m----> 1\u001b[0m reg \u001b[38;5;241m=\u001b[39m \u001b[43mxgb\u001b[49m\u001b[38;5;241m.\u001b[39mXGBRegressor(n_estimators\u001b[38;5;241m=\u001b[39m\u001b[38;5;241m1000\u001b[39m)\n\u001b[0;32m      2\u001b[0m reg\u001b[38;5;241m.\u001b[39mfit(X_train, y_train,\n\u001b[0;32m      3\u001b[0m         eval_set\u001b[38;5;241m=\u001b[39m[(X_train, y_train), (X_test, y_test)],\n\u001b[0;32m      4\u001b[0m         early_stopping_rounds\u001b[38;5;241m=\u001b[39m\u001b[38;5;241m50\u001b[39m,\n\u001b[0;32m      5\u001b[0m        verbose\u001b[38;5;241m=\u001b[39m\u001b[38;5;28;01mFalse\u001b[39;00m) \u001b[38;5;66;03m# Change verbose to True if you want to see it train\u001b[39;00m\n",
            "\u001b[1;31mNameError\u001b[0m: name 'xgb' is not defined"
          ]
        }
      ],
      "source": [
        "reg = xgb.XGBRegressor(n_estimators=1000)\n",
        "reg.fit(X_train, y_train,\n",
        "        eval_set=[(X_train, y_train), (X_test, y_test)],\n",
        "        early_stopping_rounds=50,\n",
        "       verbose=False) # Изменить значение verbose на True, если вы хотите, чтобы оно отображалось на экране."
      ]
    },
    {
      "cell_type": "markdown",
      "metadata": {
        "_uuid": "bf8d62f71d3037055bb267d283d58e510b2f58ff",
        "id": "G50Mobfmbauf"
      },
      "source": [
        "## Важность объектов\n",
        "Важность объектов - отличный способ получить общее представление о том, на какие функции модель больше всего опирается при составлении прогноза. Это показатель, который просто суммирует, сколько раз разбивается каждый объект.\n",
        "\n",
        "Мы видим, что для разделения деревьев чаще всего использовался день года, в то время как час и год были следующими. Значение квартала невелико из-за того, что оно может быть создано путем разделения на разные дни и года."
      ]
    },
    {
      "cell_type": "code",
      "execution_count": null,
      "metadata": {
        "_uuid": "bf9e389874f0463e33fc844a4821b27f32353e2c",
        "id": "zARjA3Nfbauf",
        "trusted": true
      },
      "outputs": [],
      "source": [
        "_ = plot_importance(reg, height=0.9)"
      ]
    },
    {
      "cell_type": "markdown",
      "metadata": {
        "_uuid": "7d16d64d0081f8ab9d5aff6970115f82a2e455a1",
        "id": "P4BHolIzbauf"
      },
      "source": [
        "# Прогноз по тестовому набору"
      ]
    },
    {
      "cell_type": "code",
      "execution_count": null,
      "metadata": {
        "_uuid": "ab0386238f329132254a5d2fd1ab15cc05c2ce4e",
        "id": "gJ4pcFbTbauf",
        "trusted": true
      },
      "outputs": [],
      "source": [
        "pjme_test['MW_Prediction'] = reg.predict(X_test)\n",
        "pjme_all = pd.concat([pjme_test, pjme_train], sort=False)"
      ]
    },
    {
      "cell_type": "code",
      "execution_count": null,
      "metadata": {
        "_uuid": "46c23648943927364a6e35428ac15dbb52a3ee7b",
        "id": "WY8hBST6bauf",
        "trusted": true
      },
      "outputs": [],
      "source": [
        "_ = pjme_all[['PJME_MW','MW_Prediction']].plot(figsize=(15, 5))"
      ]
    },
    {
      "cell_type": "markdown",
      "metadata": {
        "_uuid": "7b0c23f8ab69549bcf64c154a4ab6cb86c0fe204",
        "id": "uuNqx_-4bauh"
      },
      "source": [
        "# Смотреть на первый месяц прогнозов"
      ]
    },
    {
      "cell_type": "code",
      "execution_count": null,
      "metadata": {
        "_uuid": "b07c99d3ceffa3634714f23ab3e27b7d1c6fb3e1",
        "id": "oYfkiMgRbauh",
        "trusted": true
      },
      "outputs": [],
      "source": [
        "#Сопоставление прогноза с фактическими данными\n",
        "f, ax = plt.subplots(1)\n",
        "f.set_figheight(5)\n",
        "f.set_figwidth(15)\n",
        "_ = pjme_all[['MW_Prediction','PJME_MW']].plot(ax=ax,\n",
        "                                              style=['-','.'])\n",
        "ax.set_xbound(lower='01-01-2015', upper='02-01-2015')\n",
        "ax.set_ylim(0, 60000)\n",
        "plot = plt.suptitle('Прогноз на январь 2015 года в сравнении с фактическими данными')"
      ]
    },
    {
      "cell_type": "markdown",
      "metadata": {
        "_uuid": "7c46fb18df1f2a56cf2ab082814d890d34e54e4e",
        "id": "PJj8uovUbauh"
      },
      "source": []
    },
    {
      "cell_type": "code",
      "execution_count": null,
      "metadata": {
        "_uuid": "153d79e6a408c5705b5c4a19ef100449d0c38d8b",
        "id": "QMvaB2Eybauh",
        "trusted": true
      },
      "outputs": [],
      "source": [
        "f, ax = plt.subplots(1)\n",
        "f.set_figheight(5)\n",
        "f.set_figwidth(15)\n",
        "_ = pjme_all[['MW_Prediction','PJME_MW']].plot(ax=ax,\n",
        "                                              style=['-','.'])\n",
        "ax.set_xbound(lower='01-01-2015', upper='01-08-2015')\n",
        "ax.set_ylim(0, 60000)\n",
        "plot = plt.suptitle('Прогноз на первую неделю января в сравнении с фактическими данными')"
      ]
    },
    {
      "cell_type": "code",
      "execution_count": null,
      "metadata": {
        "_uuid": "8e24f91a3a71acd6d16eb930381d5b9baabffae2",
        "id": "z9CYnBFDbauh",
        "trusted": true
      },
      "outputs": [],
      "source": [
        "f, ax = plt.subplots(1)\n",
        "f.set_figheight(5)\n",
        "f.set_figwidth(15)\n",
        "_ = pjme_all[['MW_Prediction','PJME_MW']].plot(ax=ax,\n",
        "                                              style=['-','.'])\n",
        "ax.set_ylim(0, 60000)\n",
        "ax.set_xbound(lower='07-01-2015', upper='07-08-2015')\n",
        "plot = plt.suptitle('Прогноз на первую неделю июля в сравнении с фактическими данными')"
      ]
    },
    {
      "cell_type": "markdown",
      "metadata": {
        "_uuid": "31964c9653b64c3e3f6fe48f5b3d7eb1987eaf84",
        "id": "-DzI8VKObauh",
        "trusted": true
      },
      "source": [
        "# Показатели ошибок в тестовом наборе\n",
        "Наша ошибка RMSE равна 13780445 \n",
        "Наша ошибка MAE равна 2848,89 \n",
        "Наша ошибка MAPE равна 8,9%"
      ]
    },
    {
      "cell_type": "code",
      "execution_count": null,
      "metadata": {
        "_uuid": "baf33e07988ad1860ab3fee31817cba797110879",
        "id": "8m6WPVpUbauh",
        "trusted": true
      },
      "outputs": [],
      "source": [
        "mean_squared_error(y_true=pjme_test['PJME_MW'],\n",
        "                   y_pred=pjme_test['MW_Prediction'])"
      ]
    },
    {
      "cell_type": "code",
      "execution_count": null,
      "metadata": {
        "_uuid": "4943521452099c82efb7fd00da4305b457a52fc0",
        "id": "5kmAi9Xnbauh",
        "trusted": true
      },
      "outputs": [],
      "source": [
        "mean_absolute_error(y_true=pjme_test['PJME_MW'],\n",
        "                   y_pred=pjme_test['MW_Prediction'])"
      ]
    },
    {
      "cell_type": "markdown",
      "metadata": {
        "_uuid": "3bfa58efee593e8ea8a8accdcd981b6b9cde5146",
        "id": "JLFtbVrfbauh"
      },
      "source": [
        "Используем mean absolute percent error, потому что это позволяет легко вычислять процент, показывающий, насколько неверны прогнозы.\n",
        "MAPE не включен в sklearn, поэтому нам нужно использовать пользовательскую функцию."
      ]
    },
    {
      "cell_type": "code",
      "execution_count": null,
      "metadata": {
        "_uuid": "32fcb6d7905e2847a18e89e310b0a61bfc6c3321",
        "id": "dV-lcXZbbauh",
        "trusted": true
      },
      "outputs": [],
      "source": [
        "def mean_absolute_percentage_error(y_true, y_pred):\n",
        "    \"\"\"Calculates MAPE given y_true and y_pred\"\"\"\n",
        "    y_true, y_pred = np.array(y_true), np.array(y_pred)\n",
        "    return np.mean(np.abs((y_true - y_pred) / y_true)) * 100"
      ]
    },
    {
      "cell_type": "code",
      "execution_count": null,
      "metadata": {
        "_uuid": "eb095dfe68dccdc10f545d2345e3ed10865102dd",
        "id": "BvY1L-UMbaui",
        "trusted": true
      },
      "outputs": [],
      "source": [
        "mean_absolute_percentage_error(y_true=pjme_test['PJME_MW'],\n",
        "                   y_pred=pjme_test['MW_Prediction'])"
      ]
    },
    {
      "cell_type": "markdown",
      "metadata": {
        "_uuid": "5f5225264a6ae80a24b4c2802eff73f576aa4867",
        "id": "kdYHJrlfbaui"
      },
      "source": [
        "# Показ на худшие и лучшие предсказанные дни."
      ]
    },
    {
      "cell_type": "code",
      "execution_count": null,
      "metadata": {
        "_uuid": "fb1fcc67506951b7a9708cce9463f899b98a7b37",
        "id": "3BvFFjS0baui",
        "trusted": true
      },
      "outputs": [],
      "source": [
        "pjme_test['error'] = pjme_test['PJME_MW'] - pjme_test['MW_Prediction']\n",
        "pjme_test['abs_error'] = pjme_test['error'].apply(np.abs)\n",
        "error_by_day = pjme_test.groupby(['year','month','dayofmonth']) \\\n",
        "    .mean()[['PJME_MW','MW_Prediction','error','abs_error']]"
      ]
    },
    {
      "cell_type": "code",
      "execution_count": null,
      "metadata": {
        "_uuid": "6364555e8bed275076f6f6ee93c8537da3741aba",
        "id": "Se2hSXZobaui",
        "trusted": true
      },
      "outputs": [],
      "source": [
        "# Over forecasted days\n",
        "error_by_day.sort_values('error', ascending=True).head(10)"
      ]
    },
    {
      "cell_type": "code",
      "execution_count": null,
      "metadata": {
        "_uuid": "72ee8685aea837bc274cec93c2fabb108b6a107d",
        "id": "aDkN2HSMbaui",
        "trusted": true
      },
      "outputs": [],
      "source": [
        "# Worst absolute predicted days\n",
        "error_by_day.sort_values('abs_error', ascending=False).head(10)"
      ]
    },
    {
      "cell_type": "markdown",
      "metadata": {
        "_uuid": "0f4c1097312214cb35781d1e692a50b9a4c75654",
        "id": "QGImuldBbaui"
      },
      "source": [
        "Наилучшими прогнозируемыми днями, по-видимому, являются большая часть октября (не так много праздников и мягкая погода) Также начало мая"
      ]
    },
    {
      "cell_type": "code",
      "execution_count": null,
      "metadata": {
        "_uuid": "faf0e5530e1f02fb82022813780562c42a911493",
        "id": "rz4wkPHmbaui",
        "trusted": true
      },
      "outputs": [],
      "source": [
        "# Best predicted days\n",
        "error_by_day.sort_values('abs_error', ascending=True).head(10)"
      ]
    },
    {
      "cell_type": "markdown",
      "metadata": {
        "_uuid": "0f78f528ca59a1e1cfb253ab69651149a5018b3b",
        "id": "2k5CMkONbaui"
      },
      "source": [
        "# Составление прогноза на несколько лучших / наихудших дней."
      ]
    },
    {
      "cell_type": "code",
      "execution_count": null,
      "metadata": {
        "_uuid": "fd9d1df9db6153690488549f11cfd32c87cce960",
        "id": "_omCYqpFbaui",
        "trusted": true
      },
      "outputs": [],
      "source": [
        "f, ax = plt.subplots(1)\n",
        "f.set_figheight(5)\n",
        "f.set_figwidth(10)\n",
        "_ = pjme_all[['MW_Prediction','PJME_MW']].plot(ax=ax,\n",
        "                                              style=['-','.'])\n",
        "ax.set_ylim(0, 60000)\n",
        "ax.set_xbound(lower='08-13-2016', upper='08-14-2016')\n",
        "plot = plt.suptitle('13 августа 2016 года - Худший прогнозируемый день')"
      ]
    },
    {
      "cell_type": "code",
      "execution_count": null,
      "metadata": {
        "_uuid": "39eac1134b1278e7dd5f848ea03e7246d730b97f",
        "id": "XYIqtinvbaum",
        "trusted": true
      },
      "outputs": [],
      "source": [
        "f, ax = plt.subplots(1)\n",
        "f.set_figheight(5)\n",
        "f.set_figwidth(10)\n",
        "_ = pjme_all[['MW_Prediction','PJME_MW']].plot(ax=ax,\n",
        "                                              style=['-','.'])\n",
        "ax.set_ylim(0, 60000)\n",
        "ax.set_xbound(lower='10-03-2016', upper='10-04-2016')\n",
        "plot = plt.suptitle('3 октября 2016 - Самый предсказуемый день')"
      ]
    },
    {
      "cell_type": "code",
      "execution_count": null,
      "metadata": {
        "_uuid": "b20a85a8224428cbcb9888c62fa466757b0e04f7",
        "id": "nCP9EJWNbaum",
        "trusted": true
      },
      "outputs": [],
      "source": [
        "f, ax = plt.subplots(1)\n",
        "f.set_figheight(5)\n",
        "f.set_figwidth(10)\n",
        "_ = pjme_all[['MW_Prediction','PJME_MW']].plot(ax=ax,\n",
        "                                              style=['-','.'])\n",
        "ax.set_ylim(0, 60000)\n",
        "ax.set_xbound(lower='08-13-2016', upper='08-14-2016')\n",
        "plot = plt.suptitle('13 августа 2016 года - Худший прогнозируемый день')"
      ]
    }
  ],
  "metadata": {
    "colab": {
      "name": "[Tutorial] Time Series forecasting with XGBoost",
      "provenance": []
    },
    "kernelspec": {
      "display_name": "Python 3",
      "language": "python",
      "name": "python3"
    },
    "language_info": {
      "codemirror_mode": {
        "name": "ipython",
        "version": 3
      },
      "file_extension": ".py",
      "mimetype": "text/x-python",
      "name": "python",
      "nbconvert_exporter": "python",
      "pygments_lexer": "ipython3",
      "version": "3.10.4"
    }
  },
  "nbformat": 4,
  "nbformat_minor": 0
}
